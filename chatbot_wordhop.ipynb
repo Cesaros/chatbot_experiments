{
 "cells": [
  {
   "cell_type": "code",
   "execution_count": 9,
   "metadata": {
    "collapsed": true
   },
   "outputs": [],
   "source": [
    "# Dependencies\n",
    "# scipy=0.17.0\n",
    "# nltk=3.2.1\n",
    "from nltk.corpus import wordnet\n",
    "import nltk\n",
    "import string\n",
    "import scipy\n",
    "from scipy import spatial\n",
    "import Levenshtein\n",
    "from Levenshtein.StringMatcher import StringMatcher as SequenceMatcher"
   ]
  },
  {
   "cell_type": "markdown",
   "metadata": {},
   "source": [
    "### Upload Glove vectors"
   ]
  },
  {
   "cell_type": "code",
   "execution_count": 2,
   "metadata": {
    "collapsed": false
   },
   "outputs": [
    {
     "name": "stdout",
     "output_type": "stream",
     "text": [
      "Loading Glove Model\n",
      "Done. 400000  words loaded!\n"
     ]
    }
   ],
   "source": [
    "def loadGloveModel(gloveFile):\n",
    "    print(\"Loading Glove Model\")\n",
    "    f = open(gloveFile,'r')\n",
    "    model = {}\n",
    "    for line in f:\n",
    "        splitLine = line.split()\n",
    "        word = splitLine[0]\n",
    "        embedding = [float(val) for val in splitLine[1:]]\n",
    "        model[word] = embedding\n",
    "    print(\"Done.\",len(model),\" words loaded!\")\n",
    "    return model\n",
    "\n",
    "model=loadGloveModel(\"glove.6B.300d.txt\")"
   ]
  },
  {
   "cell_type": "markdown",
   "metadata": {},
   "source": [
    "### Create definitions"
   ]
  },
  {
   "cell_type": "code",
   "execution_count": 5,
   "metadata": {
    "collapsed": true
   },
   "outputs": [],
   "source": [
    "def sent_to_word2vec(statement, other_statement):\n",
    "    \n",
    "    a = statement.lower()\n",
    "    b = other_statement.lower()\n",
    "    #a=re.sub(\"\\d+\", \"\", statement.lower())\n",
    "    #b=re.sub(\"\\d+\", \"\", other_statement.lower())\n",
    "    \n",
    "    # Get default English stopwords and extend with punctuation\n",
    "    stopwords = nltk.corpus.stopwords.words('english')\n",
    "    stopwords.extend(string.punctuation)\n",
    "    stopwords.append('')\n",
    "    #remove_months = ['january', 'february', 'march', 'april', 'may', 'june', 'july', 'august', \n",
    "                # 'september', 'october', 'november', 'december']\n",
    "    #remove_days=['monday', 'tuesday', 'wednesday', 'thursday','friday', 'saturday','sunday']\n",
    "    #stopwords.extend(remove_months[:])\n",
    "    #stopwords.extend(remove_days[:])\n",
    "    \n",
    "    \n",
    "    # Transform sentences to vectors with exception if word not on list (include stop words if list=0)  \n",
    "    def sentence_vector(statement):\n",
    "        list=[]\n",
    "        full_list = []\n",
    "        for i in nltk.tokenize.word_tokenize(statement):\n",
    "            try:\n",
    "                full_list.append(model[i])\n",
    "                if i not in stopwords:\n",
    "                    list.append(model[i])\n",
    "            except KeyError:\n",
    "                continue\n",
    "        if len(list) == 0:\n",
    "            return full_list\n",
    "        else:\n",
    "            return list\n",
    "    \n",
    "    \n",
    "    \n",
    "    list_of_lists1=sentence_vector(a)\n",
    "    list_of_lists2=sentence_vector(b)\n",
    "    #print(len(lists_of_lists1),len(lists_of_lists2))\n",
    "            \n",
    "    # Sum of the word vectors to create a sentence_vector\n",
    "    a_v=[sum(x) for x in zip(*list_of_lists1)]\n",
    "    b_v=[sum(x) for x in zip(*list_of_lists2)]\n",
    "\n",
    "    \n",
    "    # Calculate cosine similarity\n",
    "    if (len(a_v)==0) or (len(b_v)==0):\n",
    "        result = 0.0\n",
    "    else:\n",
    "        result = 1 - spatial.distance.cosine(a_v, b_v)\n",
    "    \n",
    "    return float(\"{0:.3f}\".format(result))\n",
    "    #return [len(list_of_lists1),len(list_of_lists2)]\n",
    "\n",
    "    \n",
    "    \n",
    "def sentence_vector(statement):\n",
    "        a=statement.lower()\n",
    "        #a=re.sub(\"\\d+\", \"\", statement.lower())\n",
    "        \n",
    "        stopwords = nltk.corpus.stopwords.words('english')\n",
    "        stopwords.extend(string.punctuation)\n",
    "        stopwords.append('')\n",
    "        #remove_months = ['january', 'february', 'march', 'april', 'may', 'june', 'july', 'august', \n",
    "         #        'september', 'october', 'november', 'december']\n",
    "        #remove_days=['monday', 'tuesday', 'wednesday', 'thursday','friday', 'saturday','sunday']\n",
    "        #stopwords.extend(remove_months[:])\n",
    "        #stopwords.extend(remove_days[:])\n",
    "        \n",
    "        list=[]\n",
    "        full_list = []\n",
    "        for i in nltk.tokenize.word_tokenize(a):\n",
    "            try:\n",
    "                full_list.append(i)\n",
    "                if i not in stopwords:\n",
    "                    list.append(i)\n",
    "            except KeyError:\n",
    "                continue\n",
    "        if len(list) == 0:\n",
    "            return full_list\n",
    "        else:\n",
    "            return list\n"
   ]
  },
  {
   "cell_type": "markdown",
   "metadata": {},
   "source": [
    "###  Incomplete information "
   ]
  },
  {
   "cell_type": "markdown",
   "metadata": {},
   "source": [
    "### Setup"
   ]
  },
  {
   "cell_type": "markdown",
   "metadata": {},
   "source": [
    "Example:\n",
    "Customers asks:  What are the baggage fees in KLM?\n",
    "Bot response: \n",
    "\n",
    "[scenario 1: Bot does not have that statement in its database (it needs to know if you are traveling to US, Europe or within Canada). Bot figures out there is some info missing in the question. Then Bot asks for more info and joins both statements to finally look for a similar statement in its database]\n",
    "\n",
    "[scenario 2: We added a similar question to the database. Bot finds it. The answer to that question is to ask for more info. Once the additional info is provided , the bot provides the right answer] \n",
    "\n",
    "\n",
    "Two alternative solutions:\n",
    "\n",
    "(1) Scenario 1: If bot can not find another similar statement in the database with certainty, then find out if there is missing info and act accordingly. See code below for prototype using word2vec and Levenshtein.\n",
    "\n",
    "(2) Scenario 2: This scenario basically requires to add statements to the database and create convearsations that match the kind of question the customer asks (\"What are the baggage fees in KLM?\"). It requires to add more statements/ conversations to the database\n",
    "\n",
    "See datasets \"baggage_example1\" and \"baggage_example2\" defined below"
   ]
  },
  {
   "cell_type": "markdown",
   "metadata": {},
   "source": [
    "#### Scenario 1 : There is no similar question in the database"
   ]
  },
  {
   "cell_type": "code",
   "execution_count": 28,
   "metadata": {
    "collapsed": true
   },
   "outputs": [],
   "source": [
    "\n",
    "baggage_example1= {\n",
    "    \"baggage_example\": [\n",
    "        [          \n",
    "            \"What are Air Canada's  baggage fees traveling in Canada ?\",\n",
    "            \"USD 15 for 1st bag, USD30 for second bag. USD 100 for additional bags\"\n",
    "        ],\n",
    "        [            \n",
    "            \"What are Air Canada's  baggage fees traveling to US ?\",\n",
    "            \"USD 20 for 1st bag, USD40 for second bag. USD 100 for additional bags\"\n",
    "        ],\n",
    "        [    \n",
    "            \"What are Air Canada's  baggage fees traveling to Europe ?\",\n",
    "            \"USD 25 for 1st bag, USD45 for second bag. USD 100 for additional bags\"\n",
    "        ],\n",
    "        [          \n",
    "            \"What are American Airlines'  baggage fees traveling in Canada ?\",\n",
    "            \"USD 17 for 1st bag, USD32 for second bag. USD 100 for additional bags\"\n",
    "        ],\n",
    "        [            \n",
    "            \"What are American Airlines'  baggage fees traveling to US ?\",\n",
    "            \"USD 18 for 1st bag, USD37 for second bag. USD 100 for additional bags\"\n",
    "        ],\n",
    "        [    \n",
    "            \"What are American Airlines'  baggage fees traveling to Europe ?\",\n",
    "            \"USD 23 for 1st bag, USD42 for second bag. USD 100 for additional bags\"\n",
    "        ],\n",
    "        [          \n",
    "            \"What are KLM's  baggage fees traveling in Canada ?\",\n",
    "            \"USD 22.5 for 1st bag, USD32.5 for second bag. USD 100 for additional bags\"\n",
    "        ],\n",
    "        [            \n",
    "            \"What are KLM's  baggage fees traveling to US ?\",\n",
    "            \"USD 18.5 for 1st bag, USD37.5 for second bag. USD 100 for additional bags\"\n",
    "        ],\n",
    "        [    \n",
    "            \"What are KLM's  baggage fees traveling to Europe ?\",\n",
    "            \"USD 23.5 for 1st bag, USD42.5 for second bag. USD 100 for additional bags\"\n",
    "        ],\n",
    "        [    \n",
    "            \"Are you traveling in Canada?\",\n",
    "            \"Programmed action 1 (join sentences and analyze)\"\n",
    "        ],\n",
    "        [    \n",
    "            \"Are you traveling to US?\",\n",
    "            \"Programmed action 2 (join sentences and analyze)\"\n",
    "        ],\n",
    "        [    \n",
    "            \"Are you traveling to Europe?\",\n",
    "            \"Programmed action 3 (join sentences and analyze)\"\n",
    "        ],\n",
    "        [    \n",
    "            \"Are traveling on Air Canada?\",\n",
    "            \"Programmed action 4 (join sentences and analyze)\"\n",
    "        ],\n",
    "        [    \n",
    "            \"Where are you traveling to (Europe, US, within Canada)?\",\n",
    "            \"Programmed action 5 (join sentences and analyze)\"\n",
    "        ]\n",
    "    ]\n",
    "}\n",
    "          "
   ]
  },
  {
   "cell_type": "code",
   "execution_count": 29,
   "metadata": {
    "collapsed": false
   },
   "outputs": [
    {
     "name": "stdout",
     "output_type": "stream",
     "text": [
      "0.577   0.475   What are Air Canada's  baggage fees traveling in Canada ?\n",
      "0.595   0.509   What are Air Canada's  baggage fees traveling to US ?\n",
      "0.611   0.475   What are Air Canada's  baggage fees traveling to Europe ?\n",
      "0.7   0.444   What are American Airlines'  baggage fees traveling in Canada ?\n",
      "0.684   0.475   What are American Airlines'  baggage fees traveling to US ?\n",
      "0.708   0.444   What are American Airlines'  baggage fees traveling to Europe ?\n",
      "0.793   0.538   What are KLM's  baggage fees traveling in Canada ?\n",
      "0.792   0.583   What are KLM's  baggage fees traveling to US ?\n",
      "0.8   0.538   What are KLM's  baggage fees traveling to Europe ?\n",
      "0.194   0.188   Are you traveling in Canada?\n",
      "0.193   0.286   Are you traveling to US?\n",
      "0.224   0.312   Are you traveling to Europe?\n",
      "0.304   0.222   Are traveling on Air Canada?\n",
      "0.219   0.286   Where are you traveling to (Europe, US, within Canada)?\n"
     ]
    }
   ],
   "source": [
    "# Find the most similar sentence in the baggage_example1 dictionary\n",
    "# \"What are KLM's  baggage fees traveling to Europe ? \" is the most similar statement \n",
    "# but only obtains 0.8 in the cosine similarity (meaning is not really that close, more than 0.9 is close)\n",
    "\n",
    "selected_sentence=\"What are the baggage fees in KLM?\"\n",
    "\n",
    "a= \" \".join(sentence_vector(selected_sentence))\n",
    "\n",
    "for i in baggage_example1['baggage_example']:\n",
    "    b= \" \".join(sentence_vector(i[0]))\n",
    "    cosine=sent_to_word2vec(selected_sentence,i[0])\n",
    "    leven=float(\"{0:.3f}\".format(SequenceMatcher(None,a,b).ratio()))\n",
    "    print(cosine, \" \",leven,\" \", i[0])\n"
   ]
  },
  {
   "cell_type": "code",
   "execution_count": 33,
   "metadata": {
    "collapsed": false
   },
   "outputs": [
    {
     "name": "stdout",
     "output_type": "stream",
     "text": [
      "'s traveling europe\n"
     ]
    }
   ],
   "source": [
    "# Substract words from \"What are KLM's  baggage fees traveling to Europe ?\" if they are \n",
    "# in the customer's statement (\"What are the baggage fees in KLM?\")\n",
    "\n",
    "new_list=sentence_vector(baggage_example1['baggage_example'][8][0])\n",
    "for i in sentence_vector(selected_sentence): \n",
    "    new_list= [x for x in new_list if x != i ]\n",
    "print(\" \".join(new_list))"
   ]
  },
  {
   "cell_type": "code",
   "execution_count": 31,
   "metadata": {
    "collapsed": false
   },
   "outputs": [
    {
     "name": "stdout",
     "output_type": "stream",
     "text": [
      "0.705   0.475   What are Air Canada's  baggage fees traveling in Canada ?\n",
      "0.731   0.509   What are Air Canada's  baggage fees traveling to US ?\n",
      "0.807   0.475   What are Air Canada's  baggage fees traveling to Europe ?\n",
      "0.589   0.444   What are American Airlines'  baggage fees traveling in Canada ?\n",
      "0.578   0.475   What are American Airlines'  baggage fees traveling to US ?\n",
      "0.665   0.444   What are American Airlines'  baggage fees traveling to Europe ?\n",
      "0.669   0.538   What are KLM's  baggage fees traveling in Canada ?\n",
      "0.672   0.583   What are KLM's  baggage fees traveling to US ?\n",
      "0.754   0.538   What are KLM's  baggage fees traveling to Europe ?\n",
      "0.691   0.188   Are you traveling in Canada?\n",
      "0.694   0.286   Are you traveling to US?\n",
      "0.888   0.312   Are you traveling to Europe?\n",
      "0.678   0.222   Are traveling on Air Canada?\n",
      "0.818   0.286   Where are you traveling to (Europe, US, within Canada)?\n"
     ]
    }
   ],
   "source": [
    "# Find the most similar sentence to the words \"'s traveling europe\"\n",
    "# \"Are you traveling to Europe?\" is the most similar statement. Bot asks that and waits for answer\n",
    "\n",
    "\n",
    "selected_sentence2=\" \".join(new_list)\n",
    "a= \" \".join(sentence_vector(selected_sentence))\n",
    "\n",
    "for i in baggage_example1['baggage_example']:\n",
    "    b= \" \".join(sentence_vector(i[0]))\n",
    "    cosine=sent_to_word2vec(selected_sentence2,i[0])\n",
    "    leven=float(\"{0:.3f}\".format(SequenceMatcher(None,a,b).ratio()))\n",
    "    print(cosine, \" \",leven,\" \", i[0])"
   ]
  },
  {
   "cell_type": "code",
   "execution_count": 42,
   "metadata": {
    "collapsed": false
   },
   "outputs": [
    {
     "name": "stdout",
     "output_type": "stream",
     "text": [
      "0.747   0.639   What are Air Canada's  baggage fees traveling in Canada ?\n",
      "0.835   0.735   What are Air Canada's  baggage fees traveling to US ?\n",
      "0.797   0.667   What are Air Canada's  baggage fees traveling to Europe ?\n",
      "0.854   0.605   What are American Airlines'  baggage fees traveling in Canada ?\n",
      "0.901   0.694   What are American Airlines'  baggage fees traveling to US ?\n",
      "0.871   0.632   What are American Airlines'  baggage fees traveling to Europe ?\n",
      "0.879   0.708   What are KLM's  baggage fees traveling in Canada ?\n",
      "0.957   0.82   What are KLM's  baggage fees traveling to US ?\n",
      "0.896   0.738   What are KLM's  baggage fees traveling to Europe ?\n",
      "0.504   0.444   Are you traveling in Canada?\n",
      "0.67   0.585   Are you traveling to US?\n",
      "0.56   0.489   Are you traveling to Europe?\n",
      "0.586   0.408   Are traveling on Air Canada?\n",
      "0.588   0.387   Where are you traveling to (Europe, US, within Canada)?\n"
     ]
    }
   ],
   "source": [
    "# The joins answer to original question asked by customer\n",
    "# customer answers: \"NO. I am traveling to the US\"\n",
    "# the most similar question to the combined sentence (selected_sentence3 below) is \n",
    "# \"What are KLM's  baggage fees traveling to US ?\" which is in our database and we have an answer for.\n",
    "\n",
    "selected_sentence3=\"What are the baggage fees in KLM? No. I am traveling to the US\"\n",
    "\n",
    "a= \" \".join(sentence_vector(selected_sentence3))\n",
    "\n",
    "for i in baggage_example1['baggage_example']:\n",
    "    b= \" \".join(sentence_vector(i[0]))\n",
    "    cosine=sent_to_word2vec(selected_sentence3,i[0])\n",
    "    leven=float(\"{0:.3f}\".format(SequenceMatcher(None,a,b).ratio()))\n",
    "    print(cosine, \" \",leven,\" \", i[0])"
   ]
  },
  {
   "cell_type": "markdown",
   "metadata": {},
   "source": [
    "#### Scenario 2 : There is a similar question in the database"
   ]
  },
  {
   "cell_type": "code",
   "execution_count": 16,
   "metadata": {
    "collapsed": true
   },
   "outputs": [],
   "source": [
    "\n",
    "baggage_example2= {\n",
    "    \"baggage_example\": [\n",
    "        [          \n",
    "            \"What are Air Canada's  baggage fees traveling in Canada ?\",\n",
    "            \"USD 15 for 1st bag, USD30 for second bag. USD 100 for additional bags\"\n",
    "        ],\n",
    "        [            \n",
    "            \"What are Air Canada's  baggage fees traveling to US ?\",\n",
    "            \"USD 20 for 1st bag, USD40 for second bag. USD 100 for additional bags\"\n",
    "        ],\n",
    "        [    \n",
    "            \"What are Air Canada's  baggage fees traveling to Europe ?\",\n",
    "            \"USD 25 for 1st bag, USD45 for second bag. USD 100 for additional bags\"\n",
    "        ],\n",
    "        [          \n",
    "            \"What are American Airlines'  baggage fees traveling in Canada ?\",\n",
    "            \"USD 17 for 1st bag, USD32 for second bag. USD 100 for additional bags\"\n",
    "        ],\n",
    "        [            \n",
    "            \"What are American Airlines'  baggage fees traveling to US ?\",\n",
    "            \"USD 18 for 1st bag, USD37 for second bag. USD 100 for additional bags\"\n",
    "        ],\n",
    "        [    \n",
    "            \"What are American Airlines'  baggage fees traveling to Europe ?\",\n",
    "            \"USD 23 for 1st bag, USD42 for second bag. USD 100 for additional bags\"\n",
    "        ],\n",
    "        [          \n",
    "            \"What are KLM's  baggage fees traveling in Canada ?\",\n",
    "            \"USD 22.5 for 1st bag, USD32.5 for second bag. USD 100 for additional bags\"\n",
    "        ],\n",
    "        [            \n",
    "            \"What are KLM's  baggage fees traveling to US ?\",\n",
    "            \"USD 18.5 for 1st bag, USD37.5 for second bag. USD 100 for additional bags\"\n",
    "        ],\n",
    "        [    \n",
    "            \"What are KLM's  baggage fees traveling to Europe ?\",\n",
    "            \"USD 23.5 for 1st bag, USD42.5 for second bag. USD 100 for additional bags\"\n",
    "        ],\n",
    "        [    \n",
    "            \"Are you traveling in Canada?\",\n",
    "            \"Programmed action 1 (join sentences and analyze)\"\n",
    "        ],\n",
    "        [    \n",
    "            \"Are you traveling to US?\",\n",
    "            \"Programmed action 2 (join sentences and analyze)\"\n",
    "        ],\n",
    "        [    \n",
    "            \"Are you traveling to Europe?\",\n",
    "            \"Programmed action 3 (join sentences and analyze)\"\n",
    "        ],\n",
    "        [    \n",
    "            \"Are traveling on Air Canada?\",\n",
    "            \"Programmed action 4 (join sentences and analyze)\"\n",
    "        ],\n",
    "        [    \n",
    "            \"Are traveling on American Airlines?\",\n",
    "            \"Programmed action 5 (join sentences and analyze)\"\n",
    "        ],\n",
    "        [    \n",
    "            \"Are traveling on KLM?\",\n",
    "            \"Programmed action 6 (join sentences and analyze)\"\n",
    "        ],\n",
    "        [    \n",
    "            \"What are the baggage fees when you travel in KLM?\",\n",
    "            \"Answer: Where are you traveling to [Canada, US, Europe]?\"\n",
    "        ],\n",
    "        [    \n",
    "            \"I am going to Europe\",\n",
    "            \"Answer: Link to previous statement, join and analize\"\n",
    "        ]\n",
    "    ]\n",
    "}\n",
    "          "
   ]
  },
  {
   "cell_type": "code",
   "execution_count": 43,
   "metadata": {
    "collapsed": false
   },
   "outputs": [
    {
     "name": "stdout",
     "output_type": "stream",
     "text": [
      "0.577   0.475   What are Air Canada's  baggage fees traveling in Canada ?\n",
      "0.595   0.509   What are Air Canada's  baggage fees traveling to US ?\n",
      "0.611   0.475   What are Air Canada's  baggage fees traveling to Europe ?\n",
      "0.7   0.444   What are American Airlines'  baggage fees traveling in Canada ?\n",
      "0.684   0.475   What are American Airlines'  baggage fees traveling to US ?\n",
      "0.708   0.444   What are American Airlines'  baggage fees traveling to Europe ?\n",
      "0.793   0.538   What are KLM's  baggage fees traveling in Canada ?\n",
      "0.792   0.583   What are KLM's  baggage fees traveling to US ?\n",
      "0.8   0.538   What are KLM's  baggage fees traveling to Europe ?\n",
      "0.194   0.188   Are you traveling in Canada?\n",
      "0.193   0.286   Are you traveling to US?\n",
      "0.224   0.312   Are you traveling to Europe?\n",
      "0.304   0.222   Are traveling on Air Canada?\n",
      "0.424   0.326   Are traveling on American Airlines?\n",
      "0.586   0.414   Are traveling on KLM?\n",
      "0.941   0.821   What are the baggage fees when you travel in KLM?\n",
      "0.21   0.357   I am going to Europe\n"
     ]
    }
   ],
   "source": [
    "# If the statement is in the database, then both word2vec and Levenshtein find the right statement\n",
    "\n",
    "selected_sentence=\"What are the baggage fees in KLM?\"\n",
    "\n",
    "a= \" \".join(sentence_vector(selected_sentence))\n",
    "\n",
    "for i in baggage_example2['baggage_example']:\n",
    "    b= \" \".join(sentence_vector(i[0]))\n",
    "    cosine=sent_to_word2vec(selected_sentence,i[0])\n",
    "    leven=float(\"{0:.3f}\".format(SequenceMatcher(None,a,b).ratio()))\n",
    "    print(cosine, \" \",leven,\" \", i[0])\n"
   ]
  },
  {
   "cell_type": "markdown",
   "metadata": {},
   "source": []
  },
  {
   "cell_type": "code",
   "execution_count": null,
   "metadata": {
    "collapsed": true
   },
   "outputs": [],
   "source": []
  }
 ],
 "metadata": {
  "anaconda-cloud": {},
  "kernelspec": {
   "display_name": "Python [conda env:chatbot]",
   "language": "python",
   "name": "conda-env-chatbot-py"
  },
  "language_info": {
   "codemirror_mode": {
    "name": "ipython",
    "version": 3
   },
   "file_extension": ".py",
   "mimetype": "text/x-python",
   "name": "python",
   "nbconvert_exporter": "python",
   "pygments_lexer": "ipython3",
   "version": "3.4.5"
  }
 },
 "nbformat": 4,
 "nbformat_minor": 2
}
